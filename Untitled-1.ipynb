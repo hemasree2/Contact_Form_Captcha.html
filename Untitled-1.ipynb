{
 "cells": [
  {
   "cell_type": "code",
   "execution_count": null,
   "metadata": {},
   "outputs": [],
   "source": [
    "<!DOCTYPE html>\n",
    "<html>\n",
    "<title>CodeClause_Project-2</title>\n",
    "<head>\n",
    "    <link rel=\"stylesheet\" type=\"text/css\" href=\"Contact_Style.css\">\n",
    "</head>\n",
    "\n",
    "<body>\n",
    "    <fieldset>\n",
    "    <div class=\"center\">\n",
    "            <form>\n",
    "                <h1>!! Contact form with Captcha !!</h1>\n",
    "                <br/><br/><br/>\n",
    "                <h3>\n",
    "                Firstname * <input type=\"text\" name=\"Name\" placeholder=\"First name\" required=\"required\">\n",
    "                Lastname * <input type=\"text\" name=\"Surname\" placeholder=\"Last name\" required=\"required\"/>\n",
    "                <br/><br/><br/>\n",
    "                Email * <input id=\"form_email\" type=\"email\" name=\"email\" placeholder=\"Please enter your email *\" required=\"required\" data-error=\"Valid email is required.\">\n",
    "                Phone <input type=\"tel\" name=\"phone\" placeholder=\"Please enter your phone\">\n",
    "                <br/><br/><br/>\n",
    "                WhatsApp Number <input type=\"tel\" name=\"phone\" placeholder=\"Please enter your Whatsapp no.\">\n",
    "                <br/><br/><br/>\n",
    "                Message <textarea> </textarea>\n",
    "                <br/><br/>\n",
    "                </h3>\n",
    "\n",
    "        <div id=\"captchaBackground\">\n",
    "            <canvas id=\"captcha\">captcha text</canvas>\n",
    "            <input id=\"textBox\" type=\"text\" name=\"text\">\n",
    "            <div id=\"buttons\">\n",
    "                <input id=\"submitButton\" type=\"submit\">\n",
    "                <button id=\"refreshButton\" type=\"submit\">Refresh</button>\n",
    "            </div>\n",
    "            <span id=\"output\"></span>\n",
    "        </div>\n",
    "    </div>\n",
    "    </fieldset> \n",
    "    <script src=\"Contact_script.js\"></script>\n",
    "</body>\n",
    "\n",
    "</html>"
   ]
  }
 ],
 "metadata": {
  "language_info": {
   "name": "python"
  },
  "orig_nbformat": 4
 },
 "nbformat": 4,
 "nbformat_minor": 2
}
